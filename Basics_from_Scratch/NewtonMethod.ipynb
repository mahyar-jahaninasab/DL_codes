{
 "cells": [
  {
   "cell_type": "markdown",
   "metadata": {
    "id": "ifY3pbKCwjzT"
   },
   "source": [
    "Newton Method Implementation"
   ]
  },
  {
   "cell_type": "code",
   "execution_count": 1,
   "metadata": {
    "id": "MDUZWZuUwjzT"
   },
   "outputs": [],
   "source": [
    "import numpy as np\n",
    "import pandas as pd \n",
    "import seaborn as sn\n",
    "import matplotlib.pyplot as plt\n",
    "import random\n",
    "import os"
   ]
  },
  {
   "cell_type": "code",
   "execution_count": 2,
   "metadata": {
    "id": "00zam7SIwjzV"
   },
   "outputs": [],
   "source": [
    "def func(x1, x2):\n",
    "    # Define the function\n",
    "    ####### TODO ########\n",
    "    inputs = np.array([x1,x2])\n",
    "    res = 2*(inputs[0]**2) + 2*(inputs[1]**2) - 17*inputs[1]*(np.cos(0.2*np.pi*inputs[0])) - inputs[0]*inputs[1]\n",
    "\n",
    "    #####################\n",
    "    return res"
   ]
  },
  {
   "cell_type": "code",
   "execution_count": 3,
   "metadata": {
    "id": "1pnTh5xhwjzW"
   },
   "outputs": [],
   "source": [
    "def hessian(x1, x2):\n",
    "    # Calculate the hessian matrix\n",
    "    # Use theoretically-derived formulas to implement this function\n",
    "    ####### TODO ########\n",
    "    inputs = np.array([x1,x2])\n",
    "    fx1x1 = 4 + 0.68*np.square(np.pi)*inputs[1]*(np.cos(0.2*np.pi*inputs[0]))\n",
    "    fx2x2 = 4\n",
    "    fx1x2 = 3.4*np.pi*(np.sin(0.2*np.pi*inputs[0])) - 1\n",
    "    res = np.array([[fx1x1,fx1x2],[fx1x2,fx2x2]])\n",
    "    #####################\n",
    "    return res"
   ]
  },
  {
   "cell_type": "code",
   "execution_count": 5,
   "metadata": {
    "id": "6U0iy9YSwjzW"
   },
   "outputs": [],
   "source": [
    "# Define function inputs\n",
    "def hessianInv(x):\n",
    "    # Calculate the determinant and inverse of the hessian matrix\n",
    "    ####### TODO ########\n",
    "    a = x[0,0]\n",
    "    d = x[1,1]\n",
    "    b = x[0,1]\n",
    "    c = x[1,0]\n",
    "    determinant = a*d - b*c\n",
    "    inv = (1/determinant)*np.array([[d, -b],[-c, a]])\n",
    "    #####################\n",
    "    return inv"
   ]
  },
  {
   "cell_type": "code",
   "execution_count": 6,
   "metadata": {
    "id": "3xMTyu7swjzX"
   },
   "outputs": [],
   "source": [
    "def gradient(x1, x2):\n",
    "    # Calculate the gradient vector\n",
    "    # Use theoretically-derived formulas to implement this function\n",
    "    ####### TODO ########\n",
    "    inputs = np.array([x1,x2])\n",
    "    fx1 = 4*inputs[0] + 3.4*np.pi*inputs[1]*(np.sin(0.2*np.pi*inputs[0])) - inputs[1]\n",
    "    fx2 = 4*inputs[1] - 17*(np.cos(0.2*np.pi*inputs[0])) - inputs[0]\n",
    "    res = np.array([[fx1], [fx2]])\n",
    "    #####################\n",
    "    return res"
   ]
  },
  {
   "cell_type": "code",
   "execution_count": 7,
   "metadata": {
    "id": "edwHQ6fdwjzX"
   },
   "outputs": [],
   "source": [
    "def newtonMethod(x1, x2, epochs):\n",
    "    inputs = np.array([np.float32(x1),np.float32(x2)])\n",
    "    for i in range(epochs):\n",
    "        # Perform one step of the newton method\n",
    "        # Use previous functions to implement this part\n",
    "        # Update values of x1 and x2\n",
    "        ####### TODO ########\n",
    "        hessian_matrix = hessian(inputs[0], inputs[1])\n",
    "        inverse_hessian_matrix = hessianInv(hessian_matrix)\n",
    "        gradient_matrix = gradient(inputs[0], inputs[1])\n",
    "        inputs[0] = inputs[0] - np.dot(inverse_hessian_matrix[0], gradient_matrix)\n",
    "        inputs[1] = inputs[1] - np.dot(inverse_hessian_matrix[1], gradient_matrix)\n",
    "        #####################\n",
    "    return inputs[0], inputs[1]"
   ]
  },
  {
   "cell_type": "code",
   "execution_count": 8,
   "metadata": {
    "id": "Ks9zZ7bpwjzY"
   },
   "outputs": [
    {
     "name": "stdout",
     "output_type": "stream",
     "text": [
      "x1 is: 0.1308746635913849 and x2 is: 4.268357753753662 (after 100 epochs)\n",
      "The Minimum Value for the function is: -36.40349771357444 (after 100 epochs)\n"
     ]
    }
   ],
   "source": [
    "x1 = 1\n",
    "x2 = 3\n",
    "epochs = 100\n",
    "x1, x2 = newtonMethod(x1, x2, epochs)\n",
    "minVal = func(x1, x2)\n",
    "print(f\"x1 is: {x1} and x2 is: {x2} (after {epochs} epochs)\")\n",
    "print(f\"The Minimum Value for the function is: {minVal} (after {epochs} epochs)\")"
   ]
  },
  {
   "cell_type": "code",
   "execution_count": 12,
   "metadata": {
    "id": "7rClNt-_wjza"
   },
   "outputs": [],
   "source": [
    "####### TODO #########\n",
    "stepSize = 0.5\n",
    "range_x1 = np.arange(-5,5,stepSize)[1:]\n",
    "range_x2 = np.arange(0,10,stepSize)[1:]"
   ]
  },
  {
   "cell_type": "code",
   "execution_count": 25,
   "metadata": {
    "id": "6gf1X7wRwjzb"
   },
   "outputs": [],
   "source": [
    "points = []\n",
    "# We want to classify the points into three categories:\n",
    "# Close = -1, Far = 0, Further = 1\n",
    "categories = []\n",
    "for x1 in range_x1:\n",
    "    for x2 in range_x2:\n",
    "        # Use Newton method and find the distance as stated in the question\n",
    "        ######## TODO ##########\n",
    "        x1_new, x2_new= newtonMethod(x1, x2, 100)\n",
    "        loss_func = func(x1_new , x2_new)\n",
    "        distance = abs(loss_func - (-36.40))\n",
    "        ########################\n",
    "        if distance < 15:\n",
    "            categories.append(-1)\n",
    "        elif distance < 150:\n",
    "            categories.append(0)\n",
    "        else:\n",
    "            categories.append(1)\n",
    "        points.append([x1, x2])"
   ]
  },
  {
   "cell_type": "code",
   "execution_count": 26,
   "metadata": {
    "id": "dujzas6zwjzb"
   },
   "outputs": [
    {
     "data": {
      "image/png": "[encoded data removed]",
      "text/plain": [
       "<Figure size 504x504 with 1 Axes>"
      ]
     },
     "metadata": {
      "needs_background": "light"
     },
     "output_type": "display_data"
    }
   ],
   "source": [
    "plt.figure(figsize=(7,7))\n",
    "plt.title('Scatter plot (based on distance)')\n",
    "########## TODO ###########\n",
    "# Complete the figure using plt.scatter\n",
    "category_names = ['Far', 'Further', 'Close']\n",
    "for cat in np.unique(categories):\n",
    "    x = np.array(points)[:, 0][categories == cat]\n",
    "    y = np.array(points)[:, 1][categories == cat]\n",
    "    plt.scatter(x, y, label=f\" {category_names[cat]}\")\n",
    "###########################\n",
    "plt.legend(loc='upper right' )\n",
    "plt.show()"
   ]
  }
 ],
 "metadata": {
  "colab": {
   "provenance": []
  },
  "kernelspec": {
   "display_name": "Python 3 (ipykernel)",
   "language": "python",
   "name": "python3"
  },
  "language_info": {
   "codemirror_mode": {
    "name": "ipython",
    "version": 3
   },
   "file_extension": ".py",
   "mimetype": "text/x-python",
   "name": "python",
   "nbconvert_exporter": "python",
   "pygments_lexer": "ipython3",
   "version": "3.10.4"
  }
 },
 "nbformat": 4,
 "nbformat_minor": 1
}
