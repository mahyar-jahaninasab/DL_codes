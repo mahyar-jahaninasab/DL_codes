{
 "cells": [
  {
   "cell_type": "markdown",
   "metadata": {
    "id": "XsrcohGwVhLJ"
   },
   "source": [
    "<h1 style=\"text-align: center\">\n",
    " </br> \n",
    "Image Classification\n",
    "</h1>"
   ]
  },
  {
   "cell_type": "markdown",
   "metadata": {
    "id": "atGYO6DvK5NU",
    "papermill": {
     "duration": 0.022376,
     "end_time": "2020-11-06T00:15:34.434234",
     "exception": false,
     "start_time": "2020-11-06T00:15:34.411858",
     "status": "completed"
    },
    "tags": []
   },
   "source": [
    "## Import needed libraries\n"
   ]
  },
  {
   "cell_type": "code",
   "execution_count": 1,
   "metadata": {
    "execution": {
     "iopub.execute_input": "2020-11-06T00:15:34.484628Z",
     "iopub.status.busy": "2020-11-06T00:15:34.483829Z",
     "iopub.status.idle": "2020-11-06T00:15:35.592124Z",
     "shell.execute_reply": "2020-11-06T00:15:35.591266Z"
    },
    "id": "dIjCFmM1K5NX",
    "papermill": {
     "duration": 1.135699,
     "end_time": "2020-11-06T00:15:35.592273",
     "exception": false,
     "start_time": "2020-11-06T00:15:34.456574",
     "status": "completed"
    },
    "tags": []
   },
   "outputs": [],
   "source": [
    "import numpy as np\n",
    "import matplotlib.pyplot as plt\n",
    "import seaborn as sns\n",
    "import torch\n",
    "import torchvision\n",
    "import torchvision.transforms as transforms\n",
    "from torch.utils.data import random_split\n",
    "from torch.utils.data.dataloader import DataLoader\n",
    "from tqdm import tqdm\n",
    "from sklearn.metrics import classification_report"
   ]
  },
  {
   "cell_type": "markdown",
   "metadata": {
    "id": "_ih2AD9ie1MX"
   },
   "source": [
    "## Loading and Pre-Processing data"
   ]
  },
  {
   "cell_type": "code",
   "execution_count": 6,
   "metadata": {
    "id": "uaZtkgKAe2LN"
   },
   "outputs": [],
   "source": [
    "transform = transforms.ToTensor()\n",
    "train_set = torchvision.datasets.FashionMNIST(root='Desktop', train=True,download=True, transform=transform)\n",
    "test_set = torchvision.datasets.FashionMNIST(root='Desktop', train=False,download=True, transform=transform)\n"
   ]
  },
  {
   "cell_type": "code",
   "execution_count": 16,
   "metadata": {
    "id": "CsktV4w-e64U"
   },
   "outputs": [],
   "source": [
    "# split training set into train and validation data\n",
    "train_size = 48000\n",
    "val_size = 60000 - train_size\n",
    "train_ds,val_ds = random_split(train_set, [train_size, val_size])\n"
   ]
  },
  {
   "cell_type": "code",
   "execution_count": 17,
   "metadata": {
    "id": "cRIhgkNPe-rW"
   },
   "outputs": [],
   "source": [
    "# Loading the dataset into memory using Dataloader\n",
    "# use your desired batch size and shuffle is necessary\n",
    "#my first choisce is batchsize=64\n",
    "train_dataloader = DataLoader(train_ds,batch_size=64,shuffle=True,)\n",
    "val_dataloader = DataLoader(val_ds,batch_size=64,shuffle=True)\n",
    "test_dataloader = DataLoader(test_set,batch_size=64,shuffle=True)\n",
    "classes = train_set.classes\n"
   ]
  },
  {
   "cell_type": "markdown",
   "metadata": {
    "id": "MVqdLxDd8O5o"
   },
   "source": [
    "**Display some images from dataset**"
   ]
  },
  {
   "cell_type": "code",
   "execution_count": 18,
   "metadata": {
    "colab": {
     "base_uri": "https://localhost:8080/",
     "height": 154
    },
    "id": "LnhmcZP9e62N",
    "outputId": "c9176fde-7552-4c28-867b-96dd76e02750"
   },
   "outputs": [
    {
     "data": {
      "image/png": "[encoded data removed]",
      "text/plain": [
       "<Figure size 720x576 with 6 Axes>"
      ]
     },
     "metadata": {},
     "output_type": "display_data"
    }
   ],
   "source": [
    "# get some random training images\n",
    "dataiter = iter(train_dataloader)\n",
    "images, labels = next(dataiter)\n",
    "fig, axes = plt.subplots(nrows=1, ncols=6, figsize=(10, 8), subplot_kw={'xticks': [], 'yticks': []})\n",
    "for i,ax in zip(range(0,6),axes.flat):\n",
    "    img,label=images[i],labels[i]\n",
    "    ax.imshow(img.permute(1, 2, 0))\n",
    "    ax.set_title(f\"Label: {classes[label]}\")\n",
    "\n",
    "plt.tight_layout()\n",
    "plt.show()"
   ]
  },
  {
   "cell_type": "markdown",
   "metadata": {
    "id": "T7RMnLBSK5Nc",
    "papermill": {
     "duration": 0.025997,
     "end_time": "2020-11-06T00:15:44.018664",
     "exception": false,
     "start_time": "2020-11-06T00:15:43.992667",
     "status": "completed"
    },
    "tags": []
   },
   "source": [
    "# Defining the Convolutional Neural Network"
   ]
  },
  {
   "cell_type": "markdown",
   "metadata": {
    "id": "If6yxMmoqxDN"
   },
   "source": [
    "<img src='https://drive.google.com/uc?id=1Euy5_bGIiiYECSZUeEofgTImJWgQ0XLf'>"
   ]
  },
  {
   "cell_type": "markdown",
   "metadata": {
    "id": "F_UOoVg8tjwT"
   },
   "source": [
    "**<h2>Implement the model above in pytorch</h2>**"
   ]
  },
  {
   "cell_type": "code",
   "execution_count": 206,
   "metadata": {
    "id": "5d4iYGy6cwgZ"
   },
   "outputs": [],
   "source": [
    "import torch.nn as nn\n",
    "import torch.nn.functional as F\n",
    "\n",
    "#define the CNN architecture below\n",
    "class Net(nn.Module):\n",
    "    def __init__(self):\n",
    "        super(Net, self).__init__()\n",
    "        self.layer1 = nn.Sequential(\n",
    "        nn.Conv2d(in_channels=1, out_channels=32, kernel_size=3, stride=1, padding=1),\n",
    "        nn.BatchNorm2d(32),\n",
    "        nn.ReLU(),\n",
    "        nn.MaxPool2d(kernel_size=2, stride=2)\n",
    "        )\n",
    "        \n",
    "        self.layer2 = nn.Sequential(\n",
    "        nn.Conv2d(in_channels=32, out_channels=64, kernel_size=3, stride=1),\n",
    "        nn.BatchNorm2d(64),\n",
    "        nn.ReLU(),                            \n",
    "        nn.MaxPool2d(kernel_size=2, stride=2)\n",
    "        )\n",
    "        \n",
    "        self.layer3 = nn.Sequential(\n",
    "        nn.Linear(in_features=64 * 6 * 6 , out_features=600),\n",
    "        nn.Linear(in_features=600, out_features=120),\n",
    "        nn.Linear(in_features=120, out_features=10),\n",
    "        )\n",
    "\n",
    "        \n",
    "        \n",
    "    def forward(self, x):\n",
    "\n",
    "        \n",
    "        x = self.layer1(x)\n",
    "        x = self.layer2(x)\n",
    "        x = x.view(-1,64 * 6 * 6)\n",
    "        out = self.layer3(x)\n",
    "\n",
    "\n",
    "        \n",
    "        return out\n",
    "    \n"
   ]
  },
  {
   "cell_type": "code",
   "execution_count": 207,
   "metadata": {
    "id": "450scXnLLDSl"
   },
   "outputs": [],
   "source": [
    "# Using GPU if it's available\n",
    "device = torch.device('cuda' if torch.cuda.is_available() else 'cpu')"
   ]
  },
  {
   "cell_type": "code",
   "execution_count": 208,
   "metadata": {},
   "outputs": [
    {
     "data": {
      "text/plain": [
       "Net(\n",
       "  (layer1): Sequential(\n",
       "    (0): Conv2d(1, 32, kernel_size=(3, 3), stride=(1, 1), padding=(1, 1))\n",
       "    (1): BatchNorm2d(32, eps=1e-05, momentum=0.1, affine=True, track_running_stats=True)\n",
       "    (2): ReLU()\n",
       "    (3): MaxPool2d(kernel_size=2, stride=2, padding=0, dilation=1, ceil_mode=False)\n",
       "  )\n",
       "  (layer2): Sequential(\n",
       "    (0): Conv2d(32, 64, kernel_size=(3, 3), stride=(1, 1))\n",
       "    (1): BatchNorm2d(64, eps=1e-05, momentum=0.1, affine=True, track_running_stats=True)\n",
       "    (2): ReLU()\n",
       "    (3): MaxPool2d(kernel_size=2, stride=2, padding=0, dilation=1, ceil_mode=False)\n",
       "  )\n",
       "  (layer3): Sequential(\n",
       "    (0): Linear(in_features=2304, out_features=600, bias=True)\n",
       "    (1): Linear(in_features=600, out_features=120, bias=True)\n",
       "    (2): Linear(in_features=120, out_features=10, bias=True)\n",
       "  )\n",
       ")"
      ]
     },
     "execution_count": 208,
     "metadata": {},
     "output_type": "execute_result"
    }
   ],
   "source": [
    "cnn_model = Net()\n",
    "cnn_model.to(device)"
   ]
  },
  {
   "cell_type": "code",
   "execution_count": 209,
   "metadata": {
    "execution": {
     "iopub.execute_input": "2020-11-06T00:15:44.209323Z",
     "iopub.status.busy": "2020-11-06T00:15:44.208462Z",
     "iopub.status.idle": "2020-11-06T00:15:44.211159Z",
     "shell.execute_reply": "2020-11-06T00:15:44.211695Z"
    },
    "id": "aAhczTtRK5Nf",
    "papermill": {
     "duration": 0.036545,
     "end_time": "2020-11-06T00:15:44.211856",
     "exception": false,
     "start_time": "2020-11-06T00:15:44.175311",
     "status": "completed"
    },
    "tags": []
   },
   "outputs": [],
   "source": [
    "import torch.optim as optim\n",
    "\n",
    "Learning_rate= 1e-3\n",
    "criterion =  nn.CrossEntropyLoss()\n",
    "optimizer = optim.Adam(cnn_model.parameters(),lr=Learning_rate)\n"
   ]
  },
  {
   "cell_type": "code",
   "execution_count": 210,
   "metadata": {
    "id": "TIl4qh6gT68p"
   },
   "outputs": [],
   "source": [
    "epochs = 10\n",
    "save_path=\"/content/cnn_model\""
   ]
  },
  {
   "cell_type": "code",
   "execution_count": 211,
   "metadata": {
    "id": "2czjHpINLO7A"
   },
   "outputs": [],
   "source": [
    "# multiclass accuracy\n",
    "def multi_acc(y_pred, y_test):\n",
    "    _, y_pred_tags = torch.max(y_pred, dim = 1)    \n",
    "    correct_pred = (y_pred_tags == y_test).float()\n",
    "    acc = correct_pred.sum() / len(correct_pred)\n",
    "    acc = torch.round(acc * 100)\n",
    "    return acc"
   ]
  },
  {
   "cell_type": "markdown",
   "metadata": {
    "id": "-0JhvfcNYGwI"
   },
   "source": [
    "**Implementing the training algorithm and Saving the model with minimum Validation Loss**"
   ]
  },
  {
   "cell_type": "code",
   "execution_count": 212,
   "metadata": {},
   "outputs": [],
   "source": [
    "# training loop\n",
    "def train_model(model, train_dataloader, val_dataloader, n_epochs, optimizer, criterion, device, save_path):\n",
    "    train_losses = []\n",
    "    val_losses = []\n",
    "    valid_loss_min = np.Inf \n",
    "\n",
    "    for epoch in range(n_epochs):\n",
    "        model.train()  \n",
    "        epoch_loss = 0  \n",
    "        with tqdm(train_dataloader, unit=\"batch\") as batches:\n",
    "            for data, target in batches:\n",
    "                batches.set_description(f\"Epoch {epoch + 1}\")\n",
    "                \n",
    "                # move to GPU\n",
    "                data, target = data.to(device), target.to(device)\n",
    "\n",
    "                # train \n",
    "                optimizer.zero_grad()\n",
    "\n",
    "                outputs = model(data)\n",
    "\n",
    "                loss = criterion(outputs, target)\n",
    "                epoch_loss += loss.item()\n",
    "\n",
    "                loss.backward()\n",
    "\n",
    "                optimizer.step()\n",
    "\n",
    "                acc = multi_acc(outputs, target)\n",
    "                batches.set_postfix(train_loss=loss.item(), train_accuracy=acc.item())\n",
    "        train_losses.append(epoch_loss / len(train_dataloader))\n",
    "\n",
    "        ####### Validation Phase ########\n",
    "        model.eval() \n",
    "        val_loss = 0  \n",
    "        with torch.no_grad():\n",
    "            y_true, y_pred = [], []\n",
    "            for data, target in val_dataloader:\n",
    "                # move data and target tensors to the device\n",
    "                data, target = data.to(device), target.to(device)\n",
    "\n",
    "                outputs = model(data)\n",
    "\n",
    "                loss = criterion(outputs, target)\n",
    "                val_loss += loss.item()\n",
    "\n",
    "        val_losses.append(val_loss / len(val_dataloader))\n",
    "\n",
    "        print('Epoch: {}  Validation Loss: {:.6f}'.format(epoch+1, val_loss / len(val_dataloader)))\n",
    "        if val_loss <= valid_loss_min:\n",
    "            print('Validation loss decreased ({:.6f} --> {:.6f}).  Saving model ...'.format(\n",
    "                valid_loss_min,\n",
    "                val_loss / len(val_dataloader)))\n",
    "            torch.save(model.state_dict(), save_path)\n",
    "            valid_loss_min = val_loss\n",
    "\n",
    "    return model, train_losses, val_losses"
   ]
  },
  {
   "cell_type": "markdown",
   "metadata": {
    "id": "Iz5KwJJ61LAI"
   },
   "source": [
    "**Train the model**"
   ]
  },
  {
   "cell_type": "code",
   "execution_count": 214,
   "metadata": {},
   "outputs": [
    {
     "name": "stderr",
     "output_type": "stream",
     "text": [
      "Epoch 1: 100%|███████████████████████████████| 750/750 [00:55<00:00, 13.55batch/s, train_accuracy=89, train_loss=0.287]\n"
     ]
    },
    {
     "name": "stdout",
     "output_type": "stream",
     "text": [
      "Epoch: 1  Validation Loss: 0.333957\n",
      "Validation loss decreased (inf --> 0.333957).  Saving model ...\n"
     ]
    },
    {
     "name": "stderr",
     "output_type": "stream",
     "text": [
      "Epoch 2: 100%|███████████████████████████████| 750/750 [00:55<00:00, 13.60batch/s, train_accuracy=97, train_loss=0.156]\n"
     ]
    },
    {
     "name": "stdout",
     "output_type": "stream",
     "text": [
      "Epoch: 2  Validation Loss: 0.296431\n",
      "Validation loss decreased (62.783914 --> 0.296431).  Saving model ...\n"
     ]
    },
    {
     "name": "stderr",
     "output_type": "stream",
     "text": [
      "Epoch 3: 100%|███████████████████████████████| 750/750 [00:55<00:00, 13.48batch/s, train_accuracy=98, train_loss=0.124]\n"
     ]
    },
    {
     "name": "stdout",
     "output_type": "stream",
     "text": [
      "Epoch: 3  Validation Loss: 0.276751\n",
      "Validation loss decreased (55.728942 --> 0.276751).  Saving model ...\n"
     ]
    },
    {
     "name": "stderr",
     "output_type": "stream",
     "text": [
      "Epoch 4: 100%|███████████████████████████████| 750/750 [00:53<00:00, 14.12batch/s, train_accuracy=92, train_loss=0.181]\n"
     ]
    },
    {
     "name": "stdout",
     "output_type": "stream",
     "text": [
      "Epoch: 4  Validation Loss: 0.259475\n",
      "Validation loss decreased (52.029254 --> 0.259475).  Saving model ...\n"
     ]
    },
    {
     "name": "stderr",
     "output_type": "stream",
     "text": [
      "Epoch 5: 100%|████████████████████████████████| 750/750 [00:53<00:00, 14.02batch/s, train_accuracy=89, train_loss=0.32]\n"
     ]
    },
    {
     "name": "stdout",
     "output_type": "stream",
     "text": [
      "Epoch: 5  Validation Loss: 0.296700\n"
     ]
    },
    {
     "name": "stderr",
     "output_type": "stream",
     "text": [
      "Epoch 6: 100%|███████████████████████████████| 750/750 [00:53<00:00, 13.95batch/s, train_accuracy=94, train_loss=0.188]\n"
     ]
    },
    {
     "name": "stdout",
     "output_type": "stream",
     "text": [
      "Epoch: 6  Validation Loss: 0.259727\n"
     ]
    },
    {
     "name": "stderr",
     "output_type": "stream",
     "text": [
      "Epoch 7: 100%|███████████████████████████████| 750/750 [00:53<00:00, 13.95batch/s, train_accuracy=97, train_loss=0.114]\n"
     ]
    },
    {
     "name": "stdout",
     "output_type": "stream",
     "text": [
      "Epoch: 7  Validation Loss: 0.294421\n"
     ]
    },
    {
     "name": "stderr",
     "output_type": "stream",
     "text": [
      "Epoch 8: 100%|███████████████████████████████| 750/750 [00:52<00:00, 14.17batch/s, train_accuracy=95, train_loss=0.154]\n"
     ]
    },
    {
     "name": "stdout",
     "output_type": "stream",
     "text": [
      "Epoch: 8  Validation Loss: 0.266327\n"
     ]
    },
    {
     "name": "stderr",
     "output_type": "stream",
     "text": [
      "Epoch 9: 100%|███████████████████████████████| 750/750 [00:52<00:00, 14.15batch/s, train_accuracy=89, train_loss=0.277]\n"
     ]
    },
    {
     "name": "stdout",
     "output_type": "stream",
     "text": [
      "Epoch: 9  Validation Loss: 0.285278\n"
     ]
    },
    {
     "name": "stderr",
     "output_type": "stream",
     "text": [
      "Epoch 10: 100%|█████████████████████████████| 750/750 [00:52<00:00, 14.22batch/s, train_accuracy=97, train_loss=0.0922]\n"
     ]
    },
    {
     "name": "stdout",
     "output_type": "stream",
     "text": [
      "Epoch: 10  Validation Loss: 0.273575\n"
     ]
    }
   ],
   "source": [
    "model, train_losses, val_losses = train_model(cnn_model, train_dataloader, val_dataloader, epochs, optimizer, criterion, device, save_path)\n"
   ]
  },
  {
   "cell_type": "code",
   "execution_count": 215,
   "metadata": {
    "id": "1VIIMDdGUgwZ"
   },
   "outputs": [
    {
     "data": {
      "image/png": "[encoded data removed]",
      "text/plain": [
       "<Figure size 864x576 with 1 Axes>"
      ]
     },
     "metadata": {},
     "output_type": "display_data"
    }
   ],
   "source": [
    "# plot losses\n",
    "plt.subplots(figsize=(12, 8))\n",
    "sns.set_style(\"dark\")\n",
    "sns.lineplot(data=val_losses,label=\"Validation Loss\")\n",
    "sns.lineplot(data=np.asarray(train_losses)/1000,label=\"Train Loss\").set(title=\"loss change during training\", xlabel=\"epoch\", ylabel=\"loss\")\n",
    "plt.legend()\n",
    "plt.show()"
   ]
  },
  {
   "cell_type": "markdown",
   "metadata": {
    "id": "5fvHlCSjK5Nk",
    "papermill": {
     "duration": 0.035134,
     "end_time": "2020-11-06T00:19:25.651361",
     "exception": false,
     "start_time": "2020-11-06T00:19:25.616227",
     "status": "completed"
    },
    "tags": []
   },
   "source": [
    "# Prediction on Test Data"
   ]
  },
  {
   "cell_type": "code",
   "execution_count": 241,
   "metadata": {
    "id": "Apy7kcRI3-ei"
   },
   "outputs": [],
   "source": [
    "def predict(images, model):\n",
    "    predicted = torch.max(model(images),dim=1)[1] \n",
    "    return predicted"
   ]
  },
  {
   "cell_type": "markdown",
   "metadata": {
    "id": "-4B6q4vC39ry"
   },
   "source": [
    "**Accuracy Result on Test Data**"
   ]
  },
  {
   "cell_type": "code",
   "execution_count": 244,
   "metadata": {
    "execution": {
     "iopub.execute_input": "2020-11-06T00:19:26.514739Z",
     "iopub.status.busy": "2020-11-06T00:19:26.513979Z",
     "iopub.status.idle": "2020-11-06T00:19:31.836462Z",
     "shell.execute_reply": "2020-11-06T00:19:31.837205Z"
    },
    "id": "N_QdkLveK5No",
    "papermill": {
     "duration": 5.37107,
     "end_time": "2020-11-06T00:19:31.837359",
     "exception": false,
     "start_time": "2020-11-06T00:19:26.466289",
     "status": "completed"
    },
    "tags": []
   },
   "outputs": [
    {
     "name": "stdout",
     "output_type": "stream",
     "text": [
      "Accuracy of the network on the 10000 test images: 90 %\n"
     ]
    }
   ],
   "source": [
    "correct = 0\n",
    "total = 0\n",
    "y_pred_list = []\n",
    "y_true_list = []\n",
    "with torch.no_grad():\n",
    "    for data in test_dataloader:\n",
    "        images, labels = data\n",
    "        outputs = model(images)\n",
    "        predicted = predict(images, model)\n",
    "        total += labels.size(0)\n",
    "        correct += (predicted == labels).sum().item()  \n",
    "        for  x in predicted.cpu().numpy(): y_pred_list.append(x)\n",
    "        for  x in labels.cpu().numpy(): y_true_list.append(x)\n",
    "\n",
    "print('Accuracy of the network on the 10000 test images: %d %%' % (100 * correct / total))"
   ]
  },
  {
   "cell_type": "markdown",
   "metadata": {
    "id": "D8b8n56jK5No",
    "papermill": {
     "duration": 0.047911,
     "end_time": "2020-11-06T00:19:31.934242",
     "exception": false,
     "start_time": "2020-11-06T00:19:31.886331",
     "status": "completed"
    },
    "tags": []
   },
   "source": [
    "**Classification report**"
   ]
  },
  {
   "cell_type": "code",
   "execution_count": 245,
   "metadata": {
    "id": "pXpTYXeOdE10"
   },
   "outputs": [
    {
     "name": "stdout",
     "output_type": "stream",
     "text": [
      "              precision    recall  f1-score   support\n",
      "\n",
      " T-shirt/top       0.94      0.73      0.82      1000\n",
      "     Trouser       0.99      0.98      0.99      1000\n",
      "    Pullover       0.88      0.85      0.87      1000\n",
      "       Dress       0.87      0.95      0.91      1000\n",
      "        Coat       0.86      0.86      0.86      1000\n",
      "      Sandal       0.98      0.97      0.97      1000\n",
      "       Shirt       0.68      0.82      0.75      1000\n",
      "     Sneaker       0.95      0.97      0.96      1000\n",
      "         Bag       1.00      0.97      0.98      1000\n",
      "  Ankle boot       0.97      0.97      0.97      1000\n",
      "\n",
      "    accuracy                           0.91     10000\n",
      "   macro avg       0.91      0.91      0.91     10000\n",
      "weighted avg       0.91      0.91      0.91     10000\n",
      "\n"
     ]
    }
   ],
   "source": [
    "print(classification_report(y_true_list, y_pred_list, target_names=classes))"
   ]
  },
  {
   "cell_type": "code",
   "execution_count": 248,
   "metadata": {
    "id": "rVr_w4_80rJI"
   },
   "outputs": [
    {
     "data": {
      "image/png": "[encoded data removed]",
      "text/plain": [
       "<Figure size 1080x504 with 15 Axes>"
      ]
     },
     "metadata": {},
     "output_type": "display_data"
    }
   ],
   "source": [
    "dataiter = iter(test_dataloader)\n",
    "images, labels = next(dataiter)\n",
    "predicted=predict(images,cnn_model)\n",
    "\n",
    "fig, axes = plt.subplots(nrows=3, ncols=5, figsize=(15, 7), subplot_kw={'xticks': [], 'yticks': []})\n",
    "for i,ax in zip(range(0,16),axes.flat):\n",
    "    img,label=images[i],labels[i]\n",
    "    pred=predicted[i]\n",
    "    ax.imshow(img.permute(1, 2, 0))\n",
    "    ax.set_title(f\"True: {classes[label]}\\n Predicted: {classes[pred]}\")\n",
    "\n",
    "plt.tight_layout()\n",
    "plt.show()"
   ]
  },
  {
   "cell_type": "code",
   "execution_count": null,
   "metadata": {},
   "outputs": [],
   "source": []
  }
 ],
 "metadata": {
  "accelerator": "GPU",
  "colab": {
   "provenance": []
  },
  "gpuClass": "standard",
  "kernelspec": {
   "display_name": "Python 3 (ipykernel)",
   "language": "python",
   "name": "python3"
  },
  "language_info": {
   "codemirror_mode": {
    "name": "ipython",
    "version": 3
   },
   "file_extension": ".py",
   "mimetype": "text/x-python",
   "name": "python",
   "nbconvert_exporter": "python",
   "pygments_lexer": "ipython3",
   "version": "3.10.4"
  },
  "papermill": {
   "duration": 247.72117,
   "end_time": "2020-11-06T00:19:37.463107",
   "environment_variables": {},
   "exception": null,
   "input_path": "__notebook__.ipynb",
   "output_path": "__notebook__.ipynb",
   "parameters": {},
   "start_time": "2020-11-06T00:15:29.741937",
   "version": "2.1.0"
  }
 },
 "nbformat": 4,
 "nbformat_minor": 1
}
